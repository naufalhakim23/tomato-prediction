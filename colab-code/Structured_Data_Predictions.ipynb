{
  "nbformat": 4,
  "nbformat_minor": 0,
  "metadata": {
    "colab": {
      "name": "Structured Data Predictions.ipynb",
      "provenance": [],
      "collapsed_sections": [],
      "toc_visible": true
    },
    "kernelspec": {
      "name": "python3",
      "display_name": "Python 3"
    },
    "language_info": {
      "name": "python"
    }
  },
  "cells": [
    {
      "cell_type": "markdown",
      "source": [
        "## Setup"
      ],
      "metadata": {
        "id": "fYYEl0Scu1Mm"
      }
    },
    {
      "cell_type": "code",
      "execution_count": null,
      "metadata": {
        "id": "M5ik9L4guw59"
      },
      "outputs": [],
      "source": [
        "import tensorflow as tf\n",
        "import numpy as np\n",
        "import pandas as pd\n",
        "from tensorflow import keras\n",
        "from tensorflow.keras import layers\n",
        "#Import the visualization libraries\n",
        "import seaborn as sn\n",
        "import matplotlib.pyplot as plt"
      ]
    },
    {
      "cell_type": "markdown",
      "source": [
        "## Preparing Data"
      ],
      "metadata": {
        "id": "5zarHh_Ru3ZT"
      }
    },
    {
      "cell_type": "code",
      "source": [
        "dataframe = pd.read_csv('/content/drive/MyDrive/Data Skripsi/data-firebase/raw-data/newestdata.csv')\n",
        "dataframe.drop(['z_count', 'Ts', '_key', 'bitSoilSensor1', 'bitSoilSensor2', 'voltageSoilSense1', 'voltageSoilSense2', 'week', 'percentageSoilSensor1'], axis=1, inplace=True)\n",
        "display(dataframe.head(5))\n",
        "original_dataframe = dataframe.copy(deep=True)"
      ],
      "metadata": {
        "colab": {
          "base_uri": "https://localhost:8080/",
          "height": 206
        },
        "id": "-Ty6v_Gpu5rQ",
        "outputId": "ca0e30f5-ce94-4ec3-a1d1-7773b9c762fa"
      },
      "execution_count": null,
      "outputs": [
        {
          "output_type": "display_data",
          "data": {
            "text/plain": [
              "   percentageSoilSensor2  roomHumidity  roomTemperature  status\n",
              "0                     82          99.6             30.0     0.0\n",
              "1                     83          98.1             30.0     0.0\n",
              "2                     81          98.9             30.2     0.0\n",
              "3                     82          98.7             30.5     0.0\n",
              "4                     84          97.5             31.0     0.0"
            ],
            "text/html": [
              "\n",
              "  <div id=\"df-ceff40f6-a3ff-4446-ab4f-c429bbf16497\">\n",
              "    <div class=\"colab-df-container\">\n",
              "      <div>\n",
              "<style scoped>\n",
              "    .dataframe tbody tr th:only-of-type {\n",
              "        vertical-align: middle;\n",
              "    }\n",
              "\n",
              "    .dataframe tbody tr th {\n",
              "        vertical-align: top;\n",
              "    }\n",
              "\n",
              "    .dataframe thead th {\n",
              "        text-align: right;\n",
              "    }\n",
              "</style>\n",
              "<table border=\"1\" class=\"dataframe\">\n",
              "  <thead>\n",
              "    <tr style=\"text-align: right;\">\n",
              "      <th></th>\n",
              "      <th>percentageSoilSensor2</th>\n",
              "      <th>roomHumidity</th>\n",
              "      <th>roomTemperature</th>\n",
              "      <th>status</th>\n",
              "    </tr>\n",
              "  </thead>\n",
              "  <tbody>\n",
              "    <tr>\n",
              "      <th>0</th>\n",
              "      <td>82</td>\n",
              "      <td>99.6</td>\n",
              "      <td>30.0</td>\n",
              "      <td>0.0</td>\n",
              "    </tr>\n",
              "    <tr>\n",
              "      <th>1</th>\n",
              "      <td>83</td>\n",
              "      <td>98.1</td>\n",
              "      <td>30.0</td>\n",
              "      <td>0.0</td>\n",
              "    </tr>\n",
              "    <tr>\n",
              "      <th>2</th>\n",
              "      <td>81</td>\n",
              "      <td>98.9</td>\n",
              "      <td>30.2</td>\n",
              "      <td>0.0</td>\n",
              "    </tr>\n",
              "    <tr>\n",
              "      <th>3</th>\n",
              "      <td>82</td>\n",
              "      <td>98.7</td>\n",
              "      <td>30.5</td>\n",
              "      <td>0.0</td>\n",
              "    </tr>\n",
              "    <tr>\n",
              "      <th>4</th>\n",
              "      <td>84</td>\n",
              "      <td>97.5</td>\n",
              "      <td>31.0</td>\n",
              "      <td>0.0</td>\n",
              "    </tr>\n",
              "  </tbody>\n",
              "</table>\n",
              "</div>\n",
              "      <button class=\"colab-df-convert\" onclick=\"convertToInteractive('df-ceff40f6-a3ff-4446-ab4f-c429bbf16497')\"\n",
              "              title=\"Convert this dataframe to an interactive table.\"\n",
              "              style=\"display:none;\">\n",
              "        \n",
              "  <svg xmlns=\"http://www.w3.org/2000/svg\" height=\"24px\"viewBox=\"0 0 24 24\"\n",
              "       width=\"24px\">\n",
              "    <path d=\"M0 0h24v24H0V0z\" fill=\"none\"/>\n",
              "    <path d=\"M18.56 5.44l.94 2.06.94-2.06 2.06-.94-2.06-.94-.94-2.06-.94 2.06-2.06.94zm-11 1L8.5 8.5l.94-2.06 2.06-.94-2.06-.94L8.5 2.5l-.94 2.06-2.06.94zm10 10l.94 2.06.94-2.06 2.06-.94-2.06-.94-.94-2.06-.94 2.06-2.06.94z\"/><path d=\"M17.41 7.96l-1.37-1.37c-.4-.4-.92-.59-1.43-.59-.52 0-1.04.2-1.43.59L10.3 9.45l-7.72 7.72c-.78.78-.78 2.05 0 2.83L4 21.41c.39.39.9.59 1.41.59.51 0 1.02-.2 1.41-.59l7.78-7.78 2.81-2.81c.8-.78.8-2.07 0-2.86zM5.41 20L4 18.59l7.72-7.72 1.47 1.35L5.41 20z\"/>\n",
              "  </svg>\n",
              "      </button>\n",
              "      \n",
              "  <style>\n",
              "    .colab-df-container {\n",
              "      display:flex;\n",
              "      flex-wrap:wrap;\n",
              "      gap: 12px;\n",
              "    }\n",
              "\n",
              "    .colab-df-convert {\n",
              "      background-color: #E8F0FE;\n",
              "      border: none;\n",
              "      border-radius: 50%;\n",
              "      cursor: pointer;\n",
              "      display: none;\n",
              "      fill: #1967D2;\n",
              "      height: 32px;\n",
              "      padding: 0 0 0 0;\n",
              "      width: 32px;\n",
              "    }\n",
              "\n",
              "    .colab-df-convert:hover {\n",
              "      background-color: #E2EBFA;\n",
              "      box-shadow: 0px 1px 2px rgba(60, 64, 67, 0.3), 0px 1px 3px 1px rgba(60, 64, 67, 0.15);\n",
              "      fill: #174EA6;\n",
              "    }\n",
              "\n",
              "    [theme=dark] .colab-df-convert {\n",
              "      background-color: #3B4455;\n",
              "      fill: #D2E3FC;\n",
              "    }\n",
              "\n",
              "    [theme=dark] .colab-df-convert:hover {\n",
              "      background-color: #434B5C;\n",
              "      box-shadow: 0px 1px 3px 1px rgba(0, 0, 0, 0.15);\n",
              "      filter: drop-shadow(0px 1px 2px rgba(0, 0, 0, 0.3));\n",
              "      fill: #FFFFFF;\n",
              "    }\n",
              "  </style>\n",
              "\n",
              "      <script>\n",
              "        const buttonEl =\n",
              "          document.querySelector('#df-ceff40f6-a3ff-4446-ab4f-c429bbf16497 button.colab-df-convert');\n",
              "        buttonEl.style.display =\n",
              "          google.colab.kernel.accessAllowed ? 'block' : 'none';\n",
              "\n",
              "        async function convertToInteractive(key) {\n",
              "          const element = document.querySelector('#df-ceff40f6-a3ff-4446-ab4f-c429bbf16497');\n",
              "          const dataTable =\n",
              "            await google.colab.kernel.invokeFunction('convertToInteractive',\n",
              "                                                     [key], {});\n",
              "          if (!dataTable) return;\n",
              "\n",
              "          const docLinkHtml = 'Like what you see? Visit the ' +\n",
              "            '<a target=\"_blank\" href=https://colab.research.google.com/notebooks/data_table.ipynb>data table notebook</a>'\n",
              "            + ' to learn more about interactive tables.';\n",
              "          element.innerHTML = '';\n",
              "          dataTable['output_type'] = 'display_data';\n",
              "          await google.colab.output.renderOutput(dataTable, element);\n",
              "          const docLink = document.createElement('div');\n",
              "          docLink.innerHTML = docLinkHtml;\n",
              "          element.appendChild(docLink);\n",
              "        }\n",
              "      </script>\n",
              "    </div>\n",
              "  </div>\n",
              "  "
            ]
          },
          "metadata": {}
        }
      ]
    },
    {
      "cell_type": "code",
      "source": [
        "dataframe.describe().transpose()"
      ],
      "metadata": {
        "colab": {
          "base_uri": "https://localhost:8080/",
          "height": 175
        },
        "id": "AZuL1UA4qa8x",
        "outputId": "037f2748-60ab-4181-8080-e95bd4924e05"
      },
      "execution_count": null,
      "outputs": [
        {
          "output_type": "execute_result",
          "data": {
            "text/plain": [
              "                        count       mean        std       min   25%   50%  \\\n",
              "percentageSoilSensor2  9645.0  87.359461  12.633233  0.000000  83.0  92.0   \n",
              "roomHumidity           9645.0  96.723811  13.221639 -1.214748  99.3  99.9   \n",
              "roomTemperature        9645.0  28.977123   5.102066 -1.214748  26.7  28.4   \n",
              "status                 9644.0   0.053712   0.225460  0.000000   0.0   0.0   \n",
              "\n",
              "                        75%    max  \n",
              "percentageSoilSensor2  94.0  100.0  \n",
              "roomHumidity           99.9   99.9  \n",
              "roomTemperature        32.0   38.3  \n",
              "status                  0.0    1.0  "
            ],
            "text/html": [
              "\n",
              "  <div id=\"df-3f80343e-08f2-4a9e-8209-145856a95ccf\">\n",
              "    <div class=\"colab-df-container\">\n",
              "      <div>\n",
              "<style scoped>\n",
              "    .dataframe tbody tr th:only-of-type {\n",
              "        vertical-align: middle;\n",
              "    }\n",
              "\n",
              "    .dataframe tbody tr th {\n",
              "        vertical-align: top;\n",
              "    }\n",
              "\n",
              "    .dataframe thead th {\n",
              "        text-align: right;\n",
              "    }\n",
              "</style>\n",
              "<table border=\"1\" class=\"dataframe\">\n",
              "  <thead>\n",
              "    <tr style=\"text-align: right;\">\n",
              "      <th></th>\n",
              "      <th>count</th>\n",
              "      <th>mean</th>\n",
              "      <th>std</th>\n",
              "      <th>min</th>\n",
              "      <th>25%</th>\n",
              "      <th>50%</th>\n",
              "      <th>75%</th>\n",
              "      <th>max</th>\n",
              "    </tr>\n",
              "  </thead>\n",
              "  <tbody>\n",
              "    <tr>\n",
              "      <th>percentageSoilSensor2</th>\n",
              "      <td>9645.0</td>\n",
              "      <td>87.359461</td>\n",
              "      <td>12.633233</td>\n",
              "      <td>0.000000</td>\n",
              "      <td>83.0</td>\n",
              "      <td>92.0</td>\n",
              "      <td>94.0</td>\n",
              "      <td>100.0</td>\n",
              "    </tr>\n",
              "    <tr>\n",
              "      <th>roomHumidity</th>\n",
              "      <td>9645.0</td>\n",
              "      <td>96.723811</td>\n",
              "      <td>13.221639</td>\n",
              "      <td>-1.214748</td>\n",
              "      <td>99.3</td>\n",
              "      <td>99.9</td>\n",
              "      <td>99.9</td>\n",
              "      <td>99.9</td>\n",
              "    </tr>\n",
              "    <tr>\n",
              "      <th>roomTemperature</th>\n",
              "      <td>9645.0</td>\n",
              "      <td>28.977123</td>\n",
              "      <td>5.102066</td>\n",
              "      <td>-1.214748</td>\n",
              "      <td>26.7</td>\n",
              "      <td>28.4</td>\n",
              "      <td>32.0</td>\n",
              "      <td>38.3</td>\n",
              "    </tr>\n",
              "    <tr>\n",
              "      <th>status</th>\n",
              "      <td>9644.0</td>\n",
              "      <td>0.053712</td>\n",
              "      <td>0.225460</td>\n",
              "      <td>0.000000</td>\n",
              "      <td>0.0</td>\n",
              "      <td>0.0</td>\n",
              "      <td>0.0</td>\n",
              "      <td>1.0</td>\n",
              "    </tr>\n",
              "  </tbody>\n",
              "</table>\n",
              "</div>\n",
              "      <button class=\"colab-df-convert\" onclick=\"convertToInteractive('df-3f80343e-08f2-4a9e-8209-145856a95ccf')\"\n",
              "              title=\"Convert this dataframe to an interactive table.\"\n",
              "              style=\"display:none;\">\n",
              "        \n",
              "  <svg xmlns=\"http://www.w3.org/2000/svg\" height=\"24px\"viewBox=\"0 0 24 24\"\n",
              "       width=\"24px\">\n",
              "    <path d=\"M0 0h24v24H0V0z\" fill=\"none\"/>\n",
              "    <path d=\"M18.56 5.44l.94 2.06.94-2.06 2.06-.94-2.06-.94-.94-2.06-.94 2.06-2.06.94zm-11 1L8.5 8.5l.94-2.06 2.06-.94-2.06-.94L8.5 2.5l-.94 2.06-2.06.94zm10 10l.94 2.06.94-2.06 2.06-.94-2.06-.94-.94-2.06-.94 2.06-2.06.94z\"/><path d=\"M17.41 7.96l-1.37-1.37c-.4-.4-.92-.59-1.43-.59-.52 0-1.04.2-1.43.59L10.3 9.45l-7.72 7.72c-.78.78-.78 2.05 0 2.83L4 21.41c.39.39.9.59 1.41.59.51 0 1.02-.2 1.41-.59l7.78-7.78 2.81-2.81c.8-.78.8-2.07 0-2.86zM5.41 20L4 18.59l7.72-7.72 1.47 1.35L5.41 20z\"/>\n",
              "  </svg>\n",
              "      </button>\n",
              "      \n",
              "  <style>\n",
              "    .colab-df-container {\n",
              "      display:flex;\n",
              "      flex-wrap:wrap;\n",
              "      gap: 12px;\n",
              "    }\n",
              "\n",
              "    .colab-df-convert {\n",
              "      background-color: #E8F0FE;\n",
              "      border: none;\n",
              "      border-radius: 50%;\n",
              "      cursor: pointer;\n",
              "      display: none;\n",
              "      fill: #1967D2;\n",
              "      height: 32px;\n",
              "      padding: 0 0 0 0;\n",
              "      width: 32px;\n",
              "    }\n",
              "\n",
              "    .colab-df-convert:hover {\n",
              "      background-color: #E2EBFA;\n",
              "      box-shadow: 0px 1px 2px rgba(60, 64, 67, 0.3), 0px 1px 3px 1px rgba(60, 64, 67, 0.15);\n",
              "      fill: #174EA6;\n",
              "    }\n",
              "\n",
              "    [theme=dark] .colab-df-convert {\n",
              "      background-color: #3B4455;\n",
              "      fill: #D2E3FC;\n",
              "    }\n",
              "\n",
              "    [theme=dark] .colab-df-convert:hover {\n",
              "      background-color: #434B5C;\n",
              "      box-shadow: 0px 1px 3px 1px rgba(0, 0, 0, 0.15);\n",
              "      filter: drop-shadow(0px 1px 2px rgba(0, 0, 0, 0.3));\n",
              "      fill: #FFFFFF;\n",
              "    }\n",
              "  </style>\n",
              "\n",
              "      <script>\n",
              "        const buttonEl =\n",
              "          document.querySelector('#df-3f80343e-08f2-4a9e-8209-145856a95ccf button.colab-df-convert');\n",
              "        buttonEl.style.display =\n",
              "          google.colab.kernel.accessAllowed ? 'block' : 'none';\n",
              "\n",
              "        async function convertToInteractive(key) {\n",
              "          const element = document.querySelector('#df-3f80343e-08f2-4a9e-8209-145856a95ccf');\n",
              "          const dataTable =\n",
              "            await google.colab.kernel.invokeFunction('convertToInteractive',\n",
              "                                                     [key], {});\n",
              "          if (!dataTable) return;\n",
              "\n",
              "          const docLinkHtml = 'Like what you see? Visit the ' +\n",
              "            '<a target=\"_blank\" href=https://colab.research.google.com/notebooks/data_table.ipynb>data table notebook</a>'\n",
              "            + ' to learn more about interactive tables.';\n",
              "          element.innerHTML = '';\n",
              "          dataTable['output_type'] = 'display_data';\n",
              "          await google.colab.output.renderOutput(dataTable, element);\n",
              "          const docLink = document.createElement('div');\n",
              "          docLink.innerHTML = docLinkHtml;\n",
              "          element.appendChild(docLink);\n",
              "        }\n",
              "      </script>\n",
              "    </div>\n",
              "  </div>\n",
              "  "
            ]
          },
          "metadata": {},
          "execution_count": 3
        }
      ]
    },
    {
      "cell_type": "code",
      "source": [
        "dataframe = dataframe[dataframe.roomHumidity > 0]\n",
        "dataframe = dataframe[dataframe.roomTemperature > 0]"
      ],
      "metadata": {
        "id": "t-tz-vxzsAIH"
      },
      "execution_count": null,
      "outputs": []
    },
    {
      "cell_type": "code",
      "source": [
        "dataframe.describe().transpose()"
      ],
      "metadata": {
        "colab": {
          "base_uri": "https://localhost:8080/",
          "height": 175
        },
        "id": "9_QHdaQYsIwy",
        "outputId": "81428283-a10d-4a7f-8f45-ae476f93d3eb"
      },
      "execution_count": null,
      "outputs": [
        {
          "output_type": "execute_result",
          "data": {
            "text/plain": [
              "                        count       mean        std   min   25%   50%   75%  \\\n",
              "percentageSoilSensor2  9486.0  87.322581  12.560008   0.0  83.0  92.0  94.0   \n",
              "roomHumidity           9486.0  98.365412   3.775445  68.6  99.7  99.9  99.9   \n",
              "roomTemperature        9486.0  29.483186   3.306166  24.1  26.8  28.5  32.1   \n",
              "status                 9485.0   0.053980   0.225990   0.0   0.0   0.0   0.0   \n",
              "\n",
              "                         max  \n",
              "percentageSoilSensor2  100.0  \n",
              "roomHumidity            99.9  \n",
              "roomTemperature         38.3  \n",
              "status                   1.0  "
            ],
            "text/html": [
              "\n",
              "  <div id=\"df-6518e4a6-eacf-4463-bab8-5b48ca54e234\">\n",
              "    <div class=\"colab-df-container\">\n",
              "      <div>\n",
              "<style scoped>\n",
              "    .dataframe tbody tr th:only-of-type {\n",
              "        vertical-align: middle;\n",
              "    }\n",
              "\n",
              "    .dataframe tbody tr th {\n",
              "        vertical-align: top;\n",
              "    }\n",
              "\n",
              "    .dataframe thead th {\n",
              "        text-align: right;\n",
              "    }\n",
              "</style>\n",
              "<table border=\"1\" class=\"dataframe\">\n",
              "  <thead>\n",
              "    <tr style=\"text-align: right;\">\n",
              "      <th></th>\n",
              "      <th>count</th>\n",
              "      <th>mean</th>\n",
              "      <th>std</th>\n",
              "      <th>min</th>\n",
              "      <th>25%</th>\n",
              "      <th>50%</th>\n",
              "      <th>75%</th>\n",
              "      <th>max</th>\n",
              "    </tr>\n",
              "  </thead>\n",
              "  <tbody>\n",
              "    <tr>\n",
              "      <th>percentageSoilSensor2</th>\n",
              "      <td>9486.0</td>\n",
              "      <td>87.322581</td>\n",
              "      <td>12.560008</td>\n",
              "      <td>0.0</td>\n",
              "      <td>83.0</td>\n",
              "      <td>92.0</td>\n",
              "      <td>94.0</td>\n",
              "      <td>100.0</td>\n",
              "    </tr>\n",
              "    <tr>\n",
              "      <th>roomHumidity</th>\n",
              "      <td>9486.0</td>\n",
              "      <td>98.365412</td>\n",
              "      <td>3.775445</td>\n",
              "      <td>68.6</td>\n",
              "      <td>99.7</td>\n",
              "      <td>99.9</td>\n",
              "      <td>99.9</td>\n",
              "      <td>99.9</td>\n",
              "    </tr>\n",
              "    <tr>\n",
              "      <th>roomTemperature</th>\n",
              "      <td>9486.0</td>\n",
              "      <td>29.483186</td>\n",
              "      <td>3.306166</td>\n",
              "      <td>24.1</td>\n",
              "      <td>26.8</td>\n",
              "      <td>28.5</td>\n",
              "      <td>32.1</td>\n",
              "      <td>38.3</td>\n",
              "    </tr>\n",
              "    <tr>\n",
              "      <th>status</th>\n",
              "      <td>9485.0</td>\n",
              "      <td>0.053980</td>\n",
              "      <td>0.225990</td>\n",
              "      <td>0.0</td>\n",
              "      <td>0.0</td>\n",
              "      <td>0.0</td>\n",
              "      <td>0.0</td>\n",
              "      <td>1.0</td>\n",
              "    </tr>\n",
              "  </tbody>\n",
              "</table>\n",
              "</div>\n",
              "      <button class=\"colab-df-convert\" onclick=\"convertToInteractive('df-6518e4a6-eacf-4463-bab8-5b48ca54e234')\"\n",
              "              title=\"Convert this dataframe to an interactive table.\"\n",
              "              style=\"display:none;\">\n",
              "        \n",
              "  <svg xmlns=\"http://www.w3.org/2000/svg\" height=\"24px\"viewBox=\"0 0 24 24\"\n",
              "       width=\"24px\">\n",
              "    <path d=\"M0 0h24v24H0V0z\" fill=\"none\"/>\n",
              "    <path d=\"M18.56 5.44l.94 2.06.94-2.06 2.06-.94-2.06-.94-.94-2.06-.94 2.06-2.06.94zm-11 1L8.5 8.5l.94-2.06 2.06-.94-2.06-.94L8.5 2.5l-.94 2.06-2.06.94zm10 10l.94 2.06.94-2.06 2.06-.94-2.06-.94-.94-2.06-.94 2.06-2.06.94z\"/><path d=\"M17.41 7.96l-1.37-1.37c-.4-.4-.92-.59-1.43-.59-.52 0-1.04.2-1.43.59L10.3 9.45l-7.72 7.72c-.78.78-.78 2.05 0 2.83L4 21.41c.39.39.9.59 1.41.59.51 0 1.02-.2 1.41-.59l7.78-7.78 2.81-2.81c.8-.78.8-2.07 0-2.86zM5.41 20L4 18.59l7.72-7.72 1.47 1.35L5.41 20z\"/>\n",
              "  </svg>\n",
              "      </button>\n",
              "      \n",
              "  <style>\n",
              "    .colab-df-container {\n",
              "      display:flex;\n",
              "      flex-wrap:wrap;\n",
              "      gap: 12px;\n",
              "    }\n",
              "\n",
              "    .colab-df-convert {\n",
              "      background-color: #E8F0FE;\n",
              "      border: none;\n",
              "      border-radius: 50%;\n",
              "      cursor: pointer;\n",
              "      display: none;\n",
              "      fill: #1967D2;\n",
              "      height: 32px;\n",
              "      padding: 0 0 0 0;\n",
              "      width: 32px;\n",
              "    }\n",
              "\n",
              "    .colab-df-convert:hover {\n",
              "      background-color: #E2EBFA;\n",
              "      box-shadow: 0px 1px 2px rgba(60, 64, 67, 0.3), 0px 1px 3px 1px rgba(60, 64, 67, 0.15);\n",
              "      fill: #174EA6;\n",
              "    }\n",
              "\n",
              "    [theme=dark] .colab-df-convert {\n",
              "      background-color: #3B4455;\n",
              "      fill: #D2E3FC;\n",
              "    }\n",
              "\n",
              "    [theme=dark] .colab-df-convert:hover {\n",
              "      background-color: #434B5C;\n",
              "      box-shadow: 0px 1px 3px 1px rgba(0, 0, 0, 0.15);\n",
              "      filter: drop-shadow(0px 1px 2px rgba(0, 0, 0, 0.3));\n",
              "      fill: #FFFFFF;\n",
              "    }\n",
              "  </style>\n",
              "\n",
              "      <script>\n",
              "        const buttonEl =\n",
              "          document.querySelector('#df-6518e4a6-eacf-4463-bab8-5b48ca54e234 button.colab-df-convert');\n",
              "        buttonEl.style.display =\n",
              "          google.colab.kernel.accessAllowed ? 'block' : 'none';\n",
              "\n",
              "        async function convertToInteractive(key) {\n",
              "          const element = document.querySelector('#df-6518e4a6-eacf-4463-bab8-5b48ca54e234');\n",
              "          const dataTable =\n",
              "            await google.colab.kernel.invokeFunction('convertToInteractive',\n",
              "                                                     [key], {});\n",
              "          if (!dataTable) return;\n",
              "\n",
              "          const docLinkHtml = 'Like what you see? Visit the ' +\n",
              "            '<a target=\"_blank\" href=https://colab.research.google.com/notebooks/data_table.ipynb>data table notebook</a>'\n",
              "            + ' to learn more about interactive tables.';\n",
              "          element.innerHTML = '';\n",
              "          dataTable['output_type'] = 'display_data';\n",
              "          await google.colab.output.renderOutput(dataTable, element);\n",
              "          const docLink = document.createElement('div');\n",
              "          docLink.innerHTML = docLinkHtml;\n",
              "          element.appendChild(docLink);\n",
              "        }\n",
              "      </script>\n",
              "    </div>\n",
              "  </div>\n",
              "  "
            ]
          },
          "metadata": {},
          "execution_count": 5
        }
      ]
    },
    {
      "cell_type": "code",
      "source": [
        "dataframe.info()"
      ],
      "metadata": {
        "colab": {
          "base_uri": "https://localhost:8080/"
        },
        "id": "GmMRHIaXqIJR",
        "outputId": "5cf07961-fef7-48b1-e202-3f9723ba633f"
      },
      "execution_count": null,
      "outputs": [
        {
          "output_type": "stream",
          "name": "stdout",
          "text": [
            "<class 'pandas.core.frame.DataFrame'>\n",
            "Int64Index: 9486 entries, 0 to 9644\n",
            "Data columns (total 4 columns):\n",
            " #   Column                 Non-Null Count  Dtype  \n",
            "---  ------                 --------------  -----  \n",
            " 0   percentageSoilSensor2  9486 non-null   int64  \n",
            " 1   roomHumidity           9486 non-null   float64\n",
            " 2   roomTemperature        9486 non-null   float64\n",
            " 3   status                 9485 non-null   float64\n",
            "dtypes: float64(3), int64(1)\n",
            "memory usage: 370.5 KB\n"
          ]
        }
      ]
    },
    {
      "cell_type": "code",
      "source": [
        "dataframe.isnull().values.any()"
      ],
      "metadata": {
        "colab": {
          "base_uri": "https://localhost:8080/"
        },
        "id": "uyJ9ml_mfHrt",
        "outputId": "984d7a0d-14a8-48fa-c13c-07b0f0feace2"
      },
      "execution_count": null,
      "outputs": [
        {
          "output_type": "execute_result",
          "data": {
            "text/plain": [
              "True"
            ]
          },
          "metadata": {},
          "execution_count": 7
        }
      ]
    },
    {
      "cell_type": "code",
      "source": [
        "dataframe.isnull().sum()"
      ],
      "metadata": {
        "colab": {
          "base_uri": "https://localhost:8080/"
        },
        "id": "VUuePxWrfMm2",
        "outputId": "b4b74fc5-56a0-4c3f-cbd6-d2aed5f9ed2f"
      },
      "execution_count": null,
      "outputs": [
        {
          "output_type": "execute_result",
          "data": {
            "text/plain": [
              "percentageSoilSensor2    0\n",
              "roomHumidity             0\n",
              "roomTemperature          0\n",
              "status                   1\n",
              "dtype: int64"
            ]
          },
          "metadata": {},
          "execution_count": 8
        }
      ]
    },
    {
      "cell_type": "code",
      "source": [
        "dataframe = dataframe.dropna()"
      ],
      "metadata": {
        "id": "BhZXZM0gfZM5"
      },
      "execution_count": null,
      "outputs": []
    },
    {
      "cell_type": "code",
      "source": [
        "dataframe.isnull().sum()"
      ],
      "metadata": {
        "colab": {
          "base_uri": "https://localhost:8080/"
        },
        "id": "BsbvF819fdF_",
        "outputId": "5c32161e-2cf1-470a-e8af-69d22995a0a4"
      },
      "execution_count": null,
      "outputs": [
        {
          "output_type": "execute_result",
          "data": {
            "text/plain": [
              "percentageSoilSensor2    0\n",
              "roomHumidity             0\n",
              "roomTemperature          0\n",
              "status                   0\n",
              "dtype: int64"
            ]
          },
          "metadata": {},
          "execution_count": 10
        }
      ]
    },
    {
      "cell_type": "markdown",
      "source": [
        "###Changing status from float to int"
      ],
      "metadata": {
        "id": "m6qAEHLgecfe"
      }
    },
    {
      "cell_type": "code",
      "source": [
        "dataframe"
      ],
      "metadata": {
        "colab": {
          "base_uri": "https://localhost:8080/",
          "height": 424
        },
        "id": "dn3t4AhgfExZ",
        "outputId": "77628e82-2a96-4308-daa5-390459586834"
      },
      "execution_count": null,
      "outputs": [
        {
          "output_type": "execute_result",
          "data": {
            "text/plain": [
              "      percentageSoilSensor2  roomHumidity  roomTemperature  status\n",
              "0                        82          99.6             30.0     0.0\n",
              "1                        83          98.1             30.0     0.0\n",
              "2                        81          98.9             30.2     0.0\n",
              "3                        82          98.7             30.5     0.0\n",
              "4                        84          97.5             31.0     0.0\n",
              "...                     ...           ...              ...     ...\n",
              "9640                     57          99.9             28.9     1.0\n",
              "9641                     57          99.9             28.9     1.0\n",
              "9642                     56          99.9             29.1     1.0\n",
              "9643                     57          99.9             29.6     1.0\n",
              "9644                      9          99.9             30.3     1.0\n",
              "\n",
              "[9485 rows x 4 columns]"
            ],
            "text/html": [
              "\n",
              "  <div id=\"df-95a9ccc4-1fa7-43b0-9ccf-566546aae03c\">\n",
              "    <div class=\"colab-df-container\">\n",
              "      <div>\n",
              "<style scoped>\n",
              "    .dataframe tbody tr th:only-of-type {\n",
              "        vertical-align: middle;\n",
              "    }\n",
              "\n",
              "    .dataframe tbody tr th {\n",
              "        vertical-align: top;\n",
              "    }\n",
              "\n",
              "    .dataframe thead th {\n",
              "        text-align: right;\n",
              "    }\n",
              "</style>\n",
              "<table border=\"1\" class=\"dataframe\">\n",
              "  <thead>\n",
              "    <tr style=\"text-align: right;\">\n",
              "      <th></th>\n",
              "      <th>percentageSoilSensor2</th>\n",
              "      <th>roomHumidity</th>\n",
              "      <th>roomTemperature</th>\n",
              "      <th>status</th>\n",
              "    </tr>\n",
              "  </thead>\n",
              "  <tbody>\n",
              "    <tr>\n",
              "      <th>0</th>\n",
              "      <td>82</td>\n",
              "      <td>99.6</td>\n",
              "      <td>30.0</td>\n",
              "      <td>0.0</td>\n",
              "    </tr>\n",
              "    <tr>\n",
              "      <th>1</th>\n",
              "      <td>83</td>\n",
              "      <td>98.1</td>\n",
              "      <td>30.0</td>\n",
              "      <td>0.0</td>\n",
              "    </tr>\n",
              "    <tr>\n",
              "      <th>2</th>\n",
              "      <td>81</td>\n",
              "      <td>98.9</td>\n",
              "      <td>30.2</td>\n",
              "      <td>0.0</td>\n",
              "    </tr>\n",
              "    <tr>\n",
              "      <th>3</th>\n",
              "      <td>82</td>\n",
              "      <td>98.7</td>\n",
              "      <td>30.5</td>\n",
              "      <td>0.0</td>\n",
              "    </tr>\n",
              "    <tr>\n",
              "      <th>4</th>\n",
              "      <td>84</td>\n",
              "      <td>97.5</td>\n",
              "      <td>31.0</td>\n",
              "      <td>0.0</td>\n",
              "    </tr>\n",
              "    <tr>\n",
              "      <th>...</th>\n",
              "      <td>...</td>\n",
              "      <td>...</td>\n",
              "      <td>...</td>\n",
              "      <td>...</td>\n",
              "    </tr>\n",
              "    <tr>\n",
              "      <th>9640</th>\n",
              "      <td>57</td>\n",
              "      <td>99.9</td>\n",
              "      <td>28.9</td>\n",
              "      <td>1.0</td>\n",
              "    </tr>\n",
              "    <tr>\n",
              "      <th>9641</th>\n",
              "      <td>57</td>\n",
              "      <td>99.9</td>\n",
              "      <td>28.9</td>\n",
              "      <td>1.0</td>\n",
              "    </tr>\n",
              "    <tr>\n",
              "      <th>9642</th>\n",
              "      <td>56</td>\n",
              "      <td>99.9</td>\n",
              "      <td>29.1</td>\n",
              "      <td>1.0</td>\n",
              "    </tr>\n",
              "    <tr>\n",
              "      <th>9643</th>\n",
              "      <td>57</td>\n",
              "      <td>99.9</td>\n",
              "      <td>29.6</td>\n",
              "      <td>1.0</td>\n",
              "    </tr>\n",
              "    <tr>\n",
              "      <th>9644</th>\n",
              "      <td>9</td>\n",
              "      <td>99.9</td>\n",
              "      <td>30.3</td>\n",
              "      <td>1.0</td>\n",
              "    </tr>\n",
              "  </tbody>\n",
              "</table>\n",
              "<p>9485 rows × 4 columns</p>\n",
              "</div>\n",
              "      <button class=\"colab-df-convert\" onclick=\"convertToInteractive('df-95a9ccc4-1fa7-43b0-9ccf-566546aae03c')\"\n",
              "              title=\"Convert this dataframe to an interactive table.\"\n",
              "              style=\"display:none;\">\n",
              "        \n",
              "  <svg xmlns=\"http://www.w3.org/2000/svg\" height=\"24px\"viewBox=\"0 0 24 24\"\n",
              "       width=\"24px\">\n",
              "    <path d=\"M0 0h24v24H0V0z\" fill=\"none\"/>\n",
              "    <path d=\"M18.56 5.44l.94 2.06.94-2.06 2.06-.94-2.06-.94-.94-2.06-.94 2.06-2.06.94zm-11 1L8.5 8.5l.94-2.06 2.06-.94-2.06-.94L8.5 2.5l-.94 2.06-2.06.94zm10 10l.94 2.06.94-2.06 2.06-.94-2.06-.94-.94-2.06-.94 2.06-2.06.94z\"/><path d=\"M17.41 7.96l-1.37-1.37c-.4-.4-.92-.59-1.43-.59-.52 0-1.04.2-1.43.59L10.3 9.45l-7.72 7.72c-.78.78-.78 2.05 0 2.83L4 21.41c.39.39.9.59 1.41.59.51 0 1.02-.2 1.41-.59l7.78-7.78 2.81-2.81c.8-.78.8-2.07 0-2.86zM5.41 20L4 18.59l7.72-7.72 1.47 1.35L5.41 20z\"/>\n",
              "  </svg>\n",
              "      </button>\n",
              "      \n",
              "  <style>\n",
              "    .colab-df-container {\n",
              "      display:flex;\n",
              "      flex-wrap:wrap;\n",
              "      gap: 12px;\n",
              "    }\n",
              "\n",
              "    .colab-df-convert {\n",
              "      background-color: #E8F0FE;\n",
              "      border: none;\n",
              "      border-radius: 50%;\n",
              "      cursor: pointer;\n",
              "      display: none;\n",
              "      fill: #1967D2;\n",
              "      height: 32px;\n",
              "      padding: 0 0 0 0;\n",
              "      width: 32px;\n",
              "    }\n",
              "\n",
              "    .colab-df-convert:hover {\n",
              "      background-color: #E2EBFA;\n",
              "      box-shadow: 0px 1px 2px rgba(60, 64, 67, 0.3), 0px 1px 3px 1px rgba(60, 64, 67, 0.15);\n",
              "      fill: #174EA6;\n",
              "    }\n",
              "\n",
              "    [theme=dark] .colab-df-convert {\n",
              "      background-color: #3B4455;\n",
              "      fill: #D2E3FC;\n",
              "    }\n",
              "\n",
              "    [theme=dark] .colab-df-convert:hover {\n",
              "      background-color: #434B5C;\n",
              "      box-shadow: 0px 1px 3px 1px rgba(0, 0, 0, 0.15);\n",
              "      filter: drop-shadow(0px 1px 2px rgba(0, 0, 0, 0.3));\n",
              "      fill: #FFFFFF;\n",
              "    }\n",
              "  </style>\n",
              "\n",
              "      <script>\n",
              "        const buttonEl =\n",
              "          document.querySelector('#df-95a9ccc4-1fa7-43b0-9ccf-566546aae03c button.colab-df-convert');\n",
              "        buttonEl.style.display =\n",
              "          google.colab.kernel.accessAllowed ? 'block' : 'none';\n",
              "\n",
              "        async function convertToInteractive(key) {\n",
              "          const element = document.querySelector('#df-95a9ccc4-1fa7-43b0-9ccf-566546aae03c');\n",
              "          const dataTable =\n",
              "            await google.colab.kernel.invokeFunction('convertToInteractive',\n",
              "                                                     [key], {});\n",
              "          if (!dataTable) return;\n",
              "\n",
              "          const docLinkHtml = 'Like what you see? Visit the ' +\n",
              "            '<a target=\"_blank\" href=https://colab.research.google.com/notebooks/data_table.ipynb>data table notebook</a>'\n",
              "            + ' to learn more about interactive tables.';\n",
              "          element.innerHTML = '';\n",
              "          dataTable['output_type'] = 'display_data';\n",
              "          await google.colab.output.renderOutput(dataTable, element);\n",
              "          const docLink = document.createElement('div');\n",
              "          docLink.innerHTML = docLinkHtml;\n",
              "          element.appendChild(docLink);\n",
              "        }\n",
              "      </script>\n",
              "    </div>\n",
              "  </div>\n",
              "  "
            ]
          },
          "metadata": {},
          "execution_count": 11
        }
      ]
    },
    {
      "cell_type": "code",
      "source": [
        "dataframe['status'] = dataframe['status'].astype(int)"
      ],
      "metadata": {
        "id": "BFUTT1o_ef2Y",
        "colab": {
          "base_uri": "https://localhost:8080/"
        },
        "outputId": "a06379e4-b621-46a1-8171-679f6145d9e1"
      },
      "execution_count": null,
      "outputs": [
        {
          "output_type": "stream",
          "name": "stderr",
          "text": [
            "/usr/local/lib/python3.7/dist-packages/ipykernel_launcher.py:1: SettingWithCopyWarning: \n",
            "A value is trying to be set on a copy of a slice from a DataFrame.\n",
            "Try using .loc[row_indexer,col_indexer] = value instead\n",
            "\n",
            "See the caveats in the documentation: https://pandas.pydata.org/pandas-docs/stable/user_guide/indexing.html#returning-a-view-versus-a-copy\n",
            "  \"\"\"Entry point for launching an IPython kernel.\n"
          ]
        }
      ]
    },
    {
      "cell_type": "code",
      "source": [
        "dataframe.shape"
      ],
      "metadata": {
        "colab": {
          "base_uri": "https://localhost:8080/"
        },
        "id": "9aKcbfPtvL3A",
        "outputId": "32d345db-dabf-4e7f-ed83-7221b5d89d20"
      },
      "execution_count": null,
      "outputs": [
        {
          "output_type": "execute_result",
          "data": {
            "text/plain": [
              "(9485, 4)"
            ]
          },
          "metadata": {},
          "execution_count": 13
        }
      ]
    },
    {
      "cell_type": "code",
      "source": [
        "val_dataframe = dataframe.sample(frac=0.2)\n",
        "train_dataframe = dataframe.drop(val_dataframe.index)\n",
        "\n",
        "print(\n",
        "    \"Using %d samples for training and %d for validation\"\n",
        "    % (len(train_dataframe), len(val_dataframe))\n",
        ")"
      ],
      "metadata": {
        "colab": {
          "base_uri": "https://localhost:8080/"
        },
        "id": "PDz3JBKsvPsD",
        "outputId": "ee95c817-6edb-4b17-cb58-67f312398b43"
      },
      "execution_count": null,
      "outputs": [
        {
          "output_type": "stream",
          "name": "stdout",
          "text": [
            "Using 7588 samples for training and 1897 for validation\n"
          ]
        }
      ]
    },
    {
      "cell_type": "code",
      "source": [
        ""
      ],
      "metadata": {
        "id": "Qr6Y3wVbd6xT"
      },
      "execution_count": null,
      "outputs": []
    },
    {
      "cell_type": "markdown",
      "metadata": {
        "id": "-eFckdUUHWmT"
      },
      "source": [
        "### Normalize the data\n",
        "\n",
        "It is important to scale features before training a neural network. Normalization is a common way of doing this scaling: subtract the mean and divide by the standard deviation of each feature."
      ]
    },
    {
      "cell_type": "markdown",
      "metadata": {
        "id": "mxbIic5TMlxx"
      },
      "source": [
        "The mean and standard deviation should only be computed using the training data so that the models have no access to the values in the validation and test sets.\n",
        "\n",
        "It's also arguable that the model shouldn't have access to future values in the training set when training, and that this normalization should be done using moving averages. That's not the focus of this tutorial, and the validation and test sets ensure that you get (somewhat) honest metrics. So, in the interest of simplicity this tutorial uses a simple average."
      ]
    },
    {
      "cell_type": "code",
      "execution_count": null,
      "metadata": {
        "id": "Eji6njXvHusN"
      },
      "outputs": [],
      "source": [
        "train_mean = train_dataframe.mean()\n",
        "train_std = train_dataframe.std()\n",
        "\n",
        "train_df = (train_dataframe - train_mean) / train_std\n",
        "val_df = (val_dataframe - train_mean) / train_std"
      ]
    },
    {
      "cell_type": "markdown",
      "metadata": {
        "id": "G6ufs8kk9JQw"
      },
      "source": [
        "Now, peek at the distribution of the features. Some features do have long tails, but there are no obvious errors like the `-9999` wind velocity value."
      ]
    },
    {
      "cell_type": "code",
      "execution_count": null,
      "metadata": {
        "id": "T0UYEnkwm8Fe",
        "colab": {
          "base_uri": "https://localhost:8080/",
          "height": 493
        },
        "outputId": "4e86cb2f-713a-4526-dfd2-62c62711e175"
      },
      "outputs": [
        {
          "output_type": "display_data",
          "data": {
            "text/plain": [
              "<Figure size 864x432 with 1 Axes>"
            ],
            "image/png": "[encoded data removed]"
          },
          "metadata": {
            "needs_background": "light"
          }
        }
      ],
      "source": [
        "df_std = (dataframe - train_mean) / train_std\n",
        "df_std = df_std.melt(var_name='Column', value_name='Normalized')\n",
        "plt.figure(figsize=(12, 6))\n",
        "ax = sn.violinplot(x='Column', y='Normalized', data=df_std)\n",
        "_ = ax.set_xticklabels(dataframe.keys(), rotation=90)"
      ]
    },
    {
      "cell_type": "code",
      "source": [
        "def dataframe_to_dataset(dataframe):\n",
        "    dataframe = dataframe.copy()\n",
        "    labels = dataframe.pop(\"status\")\n",
        "    ds = tf.data.Dataset.from_tensor_slices((dict(dataframe), labels))\n",
        "    ds = ds.shuffle(buffer_size=len(dataframe))\n",
        "    return ds\n",
        "\n",
        "\n",
        "train_ds = dataframe_to_dataset(train_dataframe)\n",
        "val_ds = dataframe_to_dataset(val_dataframe)"
      ],
      "metadata": {
        "id": "lzfH7nKFvYBX"
      },
      "execution_count": null,
      "outputs": []
    },
    {
      "cell_type": "code",
      "source": [
        "for x, y in train_ds.take(1):\n",
        "    print(\"Input:\", x)\n",
        "    print(\"Target:\", y)"
      ],
      "metadata": {
        "colab": {
          "base_uri": "https://localhost:8080/"
        },
        "id": "JxG8yW-uv6Gw",
        "outputId": "accb4dbd-d9e0-4717-c922-64788fea834c"
      },
      "execution_count": null,
      "outputs": [
        {
          "output_type": "stream",
          "name": "stdout",
          "text": [
            "Input: {'percentageSoilSensor2': <tf.Tensor: shape=(), dtype=int64, numpy=93>, 'roomHumidity': <tf.Tensor: shape=(), dtype=float64, numpy=99.9>, 'roomTemperature': <tf.Tensor: shape=(), dtype=float64, numpy=28.9>}\n",
            "Target: tf.Tensor(0, shape=(), dtype=int64)\n"
          ]
        }
      ]
    },
    {
      "cell_type": "code",
      "source": [
        "val_ds = val_ds.batch(16)"
      ],
      "metadata": {
        "id": "gmy6UuZVwUiT"
      },
      "execution_count": null,
      "outputs": []
    },
    {
      "cell_type": "markdown",
      "source": [
        "## Feature preprocessing with Keras layers"
      ],
      "metadata": {
        "id": "5q5vkbeTwbs5"
      }
    },
    {
      "cell_type": "code",
      "source": [
        "from tensorflow.keras.layers import IntegerLookup\n",
        "from tensorflow.keras.layers import Normalization\n",
        "from tensorflow.keras.layers import StringLookup\n",
        "\n",
        "\n",
        "def encode_numerical_feature(feature, name, dataset):\n",
        "    # Create a Normalization layer for our feature\n",
        "    normalizer = Normalization()\n",
        "\n",
        "    # Prepare a Dataset that only yields our feature\n",
        "    feature_ds = dataset.map(lambda x, y: x[name])\n",
        "    feature_ds = feature_ds.map(lambda x: tf.expand_dims(x, -1))\n",
        "\n",
        "    # Learn the statistics of the data\n",
        "    normalizer.adapt(feature_ds)\n",
        "\n",
        "    # Normalize the input feature\n",
        "    encoded_feature = normalizer(feature)\n",
        "    return encoded_feature\n",
        "\n",
        "\n",
        "def encode_categorical_feature(feature, name, dataset, is_string):\n",
        "    lookup_class = StringLookup if is_string else IntegerLookup\n",
        "    # Create a lookup layer which will turn strings into integer indices\n",
        "    lookup = lookup_class(output_mode=\"binary\")\n",
        "\n",
        "    # Prepare a Dataset that only yields our feature\n",
        "    feature_ds = dataset.map(lambda x, y: x[name])\n",
        "    feature_ds = feature_ds.map(lambda x: tf.expand_dims(x, -1))\n",
        "\n",
        "    # Learn the set of possible string values and assign them a fixed integer index\n",
        "    lookup.adapt(feature_ds)\n",
        "\n",
        "    # Turn the string input into integer indices\n",
        "    encoded_feature = lookup(feature)\n",
        "    return encoded_feature"
      ],
      "metadata": {
        "id": "1IOyzASVwY_Q"
      },
      "execution_count": null,
      "outputs": []
    },
    {
      "cell_type": "markdown",
      "source": [
        "## Build a model"
      ],
      "metadata": {
        "id": "pZbZ_bycwtC3"
      }
    },
    {
      "cell_type": "code",
      "source": [
        "# percentageSoilSensor1 = keras.Input(shape = (1,), name='percentageSoilSensor1')\n",
        "percentageSoilSensor2 = keras.Input(shape = (1,), name='percentageSoilSensor2')\n",
        "roomHumidity = keras.Input(shape = (1,), name='roomHumidity')\n",
        "roomTemperature = keras.Input(shape = (1,), name='roomTemperature')\n",
        "all_inputs = [\n",
        "              percentageSoilSensor2, roomHumidity, roomTemperature \n",
        "]"
      ],
      "metadata": {
        "id": "1WelXKSuwsth"
      },
      "execution_count": null,
      "outputs": []
    },
    {
      "cell_type": "code",
      "source": [
        "# percentageSoilSensor1_encoded = encode_numerical_feature(percentageSoilSensor1, 'percentageSoilSensor1', train_ds)\n",
        "percentageSoilSensor2_encoded = encode_numerical_feature(percentageSoilSensor2, 'percentageSoilSensor2', train_ds)\n",
        "roomHumidity_encoded = encode_numerical_feature(roomHumidity, 'roomHumidity', train_ds)\n",
        "roomTemperature_encoded = encode_numerical_feature(roomTemperature, 'roomTemperature', train_ds)\n",
        "all_features = layers.concatenate(\n",
        "    [\n",
        "     percentageSoilSensor2_encoded, roomHumidity_encoded, roomTemperature_encoded\n",
        "    ]\n",
        ")"
      ],
      "metadata": {
        "id": "eN5pddMKwqC8"
      },
      "execution_count": null,
      "outputs": []
    },
    {
      "cell_type": "code",
      "source": [
        "x = layers.Dense(32, activation=\"relu\")(all_features)\n",
        "x = layers.Dropout(0.2)(x)\n",
        "x = layers.Dense(16, activation= \"relu\")(x)\n",
        "output = layers.Dense(1, activation=\"sigmoid\")(x) \n",
        "model = keras.Model(all_inputs, output)\n",
        "model.compile(\"adam\", \"binary_crossentropy\", metrics=[\"accuracy\"])"
      ],
      "metadata": {
        "id": "B9K8OdwFyjU0"
      },
      "execution_count": null,
      "outputs": []
    },
    {
      "cell_type": "code",
      "source": [
        "# `rankdir='LR'` is to make the graph horizontal.\n",
        "keras.utils.plot_model(model, show_shapes=True, rankdir=\"LR\")"
      ],
      "metadata": {
        "colab": {
          "base_uri": "https://localhost:8080/",
          "height": 468
        },
        "id": "FiFnEIs_yoCt",
        "outputId": "8c1f1ea6-2999-41cf-a11d-8706e6ba05a5"
      },
      "execution_count": null,
      "outputs": [
        {
          "output_type": "execute_result",
          "data": {
            "text/plain": [
              "<IPython.core.display.Image object>"
            ],
            "image/png": "[encoded data removed]"
          },
          "metadata": {},
          "execution_count": 78
        }
      ]
    },
    {
      "cell_type": "markdown",
      "source": [
        "## Train Model"
      ],
      "metadata": {
        "id": "3nW9v8keyv36"
      }
    },
    {
      "cell_type": "code",
      "source": [
        "history = model.fit(train_ds, epochs=50, validation_data=val_ds)"
      ],
      "metadata": {
        "colab": {
          "base_uri": "https://localhost:8080/"
        },
        "id": "Vamz6z3Uypih",
        "outputId": "af960f57-6064-4cc2-dc87-f953d2da2478"
      },
      "execution_count": null,
      "outputs": [
        {
          "output_type": "stream",
          "name": "stdout",
          "text": [
            "Epoch 1/50\n",
            "475/475 [==============================] - 2s 3ms/step - loss: 0.2283 - accuracy: 0.9389 - val_loss: 0.1376 - val_accuracy: 0.9457\n",
            "Epoch 2/50\n",
            "475/475 [==============================] - 1s 3ms/step - loss: 0.1329 - accuracy: 0.9537 - val_loss: 0.1262 - val_accuracy: 0.9494\n",
            "Epoch 3/50\n",
            "475/475 [==============================] - 1s 3ms/step - loss: 0.1249 - accuracy: 0.9548 - val_loss: 0.1200 - val_accuracy: 0.9568\n",
            "Epoch 4/50\n",
            "475/475 [==============================] - 1s 3ms/step - loss: 0.1220 - accuracy: 0.9598 - val_loss: 0.1152 - val_accuracy: 0.9615\n",
            "Epoch 5/50\n",
            "475/475 [==============================] - 1s 3ms/step - loss: 0.1168 - accuracy: 0.9607 - val_loss: 0.1120 - val_accuracy: 0.9636\n",
            "Epoch 6/50\n",
            "475/475 [==============================] - 1s 3ms/step - loss: 0.1128 - accuracy: 0.9631 - val_loss: 0.1088 - val_accuracy: 0.9663\n",
            "Epoch 7/50\n",
            "475/475 [==============================] - 1s 3ms/step - loss: 0.1116 - accuracy: 0.9643 - val_loss: 0.1068 - val_accuracy: 0.9620\n",
            "Epoch 8/50\n",
            "475/475 [==============================] - 1s 3ms/step - loss: 0.1093 - accuracy: 0.9643 - val_loss: 0.1028 - val_accuracy: 0.9673\n",
            "Epoch 9/50\n",
            "475/475 [==============================] - 1s 3ms/step - loss: 0.1062 - accuracy: 0.9652 - val_loss: 0.1005 - val_accuracy: 0.9689\n",
            "Epoch 10/50\n",
            "475/475 [==============================] - 1s 3ms/step - loss: 0.1042 - accuracy: 0.9660 - val_loss: 0.0993 - val_accuracy: 0.9684\n",
            "Epoch 11/50\n",
            "475/475 [==============================] - 1s 3ms/step - loss: 0.1036 - accuracy: 0.9660 - val_loss: 0.0996 - val_accuracy: 0.9689\n",
            "Epoch 12/50\n",
            "475/475 [==============================] - 1s 3ms/step - loss: 0.0996 - accuracy: 0.9674 - val_loss: 0.0969 - val_accuracy: 0.9694\n",
            "Epoch 13/50\n",
            "475/475 [==============================] - 1s 3ms/step - loss: 0.1007 - accuracy: 0.9680 - val_loss: 0.0966 - val_accuracy: 0.9689\n",
            "Epoch 14/50\n",
            "475/475 [==============================] - 1s 3ms/step - loss: 0.1007 - accuracy: 0.9663 - val_loss: 0.0989 - val_accuracy: 0.9689\n",
            "Epoch 15/50\n",
            "475/475 [==============================] - 1s 3ms/step - loss: 0.0978 - accuracy: 0.9672 - val_loss: 0.0953 - val_accuracy: 0.9715\n",
            "Epoch 16/50\n",
            "475/475 [==============================] - 1s 3ms/step - loss: 0.0998 - accuracy: 0.9669 - val_loss: 0.0968 - val_accuracy: 0.9694\n",
            "Epoch 17/50\n",
            "475/475 [==============================] - 1s 2ms/step - loss: 0.0981 - accuracy: 0.9680 - val_loss: 0.0950 - val_accuracy: 0.9705\n",
            "Epoch 18/50\n",
            "475/475 [==============================] - 1s 3ms/step - loss: 0.0978 - accuracy: 0.9690 - val_loss: 0.0950 - val_accuracy: 0.9715\n",
            "Epoch 19/50\n",
            "475/475 [==============================] - 1s 3ms/step - loss: 0.0970 - accuracy: 0.9677 - val_loss: 0.0936 - val_accuracy: 0.9710\n",
            "Epoch 20/50\n",
            "475/475 [==============================] - 1s 3ms/step - loss: 0.0973 - accuracy: 0.9702 - val_loss: 0.0930 - val_accuracy: 0.9705\n",
            "Epoch 21/50\n",
            "475/475 [==============================] - 1s 3ms/step - loss: 0.0960 - accuracy: 0.9680 - val_loss: 0.0936 - val_accuracy: 0.9705\n",
            "Epoch 22/50\n",
            "475/475 [==============================] - 1s 3ms/step - loss: 0.0964 - accuracy: 0.9689 - val_loss: 0.0928 - val_accuracy: 0.9721\n",
            "Epoch 23/50\n",
            "475/475 [==============================] - 1s 3ms/step - loss: 0.0958 - accuracy: 0.9674 - val_loss: 0.0940 - val_accuracy: 0.9721\n",
            "Epoch 24/50\n",
            "475/475 [==============================] - 1s 3ms/step - loss: 0.0950 - accuracy: 0.9690 - val_loss: 0.0934 - val_accuracy: 0.9700\n",
            "Epoch 25/50\n",
            "475/475 [==============================] - 1s 3ms/step - loss: 0.0956 - accuracy: 0.9690 - val_loss: 0.0924 - val_accuracy: 0.9705\n",
            "Epoch 26/50\n",
            "475/475 [==============================] - 1s 3ms/step - loss: 0.0946 - accuracy: 0.9681 - val_loss: 0.0921 - val_accuracy: 0.9705\n",
            "Epoch 27/50\n",
            "475/475 [==============================] - 1s 3ms/step - loss: 0.0945 - accuracy: 0.9678 - val_loss: 0.0914 - val_accuracy: 0.9721\n",
            "Epoch 28/50\n",
            "475/475 [==============================] - 1s 3ms/step - loss: 0.0940 - accuracy: 0.9685 - val_loss: 0.0945 - val_accuracy: 0.9721\n",
            "Epoch 29/50\n",
            "475/475 [==============================] - 1s 2ms/step - loss: 0.0949 - accuracy: 0.9692 - val_loss: 0.0917 - val_accuracy: 0.9710\n",
            "Epoch 30/50\n",
            "475/475 [==============================] - 1s 3ms/step - loss: 0.0935 - accuracy: 0.9696 - val_loss: 0.0912 - val_accuracy: 0.9700\n",
            "Epoch 31/50\n",
            "475/475 [==============================] - 1s 3ms/step - loss: 0.0948 - accuracy: 0.9682 - val_loss: 0.0920 - val_accuracy: 0.9721\n",
            "Epoch 32/50\n",
            "475/475 [==============================] - 1s 3ms/step - loss: 0.0933 - accuracy: 0.9692 - val_loss: 0.0945 - val_accuracy: 0.9715\n",
            "Epoch 33/50\n",
            "475/475 [==============================] - 1s 3ms/step - loss: 0.0921 - accuracy: 0.9698 - val_loss: 0.0908 - val_accuracy: 0.9694\n",
            "Epoch 34/50\n",
            "475/475 [==============================] - 1s 3ms/step - loss: 0.0931 - accuracy: 0.9692 - val_loss: 0.0907 - val_accuracy: 0.9705\n",
            "Epoch 35/50\n",
            "475/475 [==============================] - 2s 4ms/step - loss: 0.0945 - accuracy: 0.9681 - val_loss: 0.0915 - val_accuracy: 0.9705\n",
            "Epoch 36/50\n",
            "475/475 [==============================] - 1s 3ms/step - loss: 0.0941 - accuracy: 0.9696 - val_loss: 0.0907 - val_accuracy: 0.9694\n",
            "Epoch 37/50\n",
            "475/475 [==============================] - 1s 3ms/step - loss: 0.0935 - accuracy: 0.9689 - val_loss: 0.0905 - val_accuracy: 0.9715\n",
            "Epoch 38/50\n",
            "475/475 [==============================] - 1s 3ms/step - loss: 0.0917 - accuracy: 0.9694 - val_loss: 0.0936 - val_accuracy: 0.9721\n",
            "Epoch 39/50\n",
            "475/475 [==============================] - 1s 3ms/step - loss: 0.0930 - accuracy: 0.9698 - val_loss: 0.0940 - val_accuracy: 0.9715\n",
            "Epoch 40/50\n",
            "475/475 [==============================] - 1s 3ms/step - loss: 0.0929 - accuracy: 0.9696 - val_loss: 0.0921 - val_accuracy: 0.9715\n",
            "Epoch 41/50\n",
            "475/475 [==============================] - 1s 3ms/step - loss: 0.0921 - accuracy: 0.9705 - val_loss: 0.0890 - val_accuracy: 0.9710\n",
            "Epoch 42/50\n",
            "475/475 [==============================] - 1s 3ms/step - loss: 0.0923 - accuracy: 0.9677 - val_loss: 0.0910 - val_accuracy: 0.9721\n",
            "Epoch 43/50\n",
            "475/475 [==============================] - 1s 3ms/step - loss: 0.0919 - accuracy: 0.9690 - val_loss: 0.0904 - val_accuracy: 0.9710\n",
            "Epoch 44/50\n",
            "475/475 [==============================] - 1s 3ms/step - loss: 0.0916 - accuracy: 0.9702 - val_loss: 0.0894 - val_accuracy: 0.9700\n",
            "Epoch 45/50\n",
            "475/475 [==============================] - 2s 4ms/step - loss: 0.0936 - accuracy: 0.9700 - val_loss: 0.0911 - val_accuracy: 0.9710\n",
            "Epoch 46/50\n",
            "475/475 [==============================] - 3s 6ms/step - loss: 0.0895 - accuracy: 0.9702 - val_loss: 0.0899 - val_accuracy: 0.9731\n",
            "Epoch 47/50\n",
            "475/475 [==============================] - 3s 6ms/step - loss: 0.0910 - accuracy: 0.9701 - val_loss: 0.0895 - val_accuracy: 0.9710\n",
            "Epoch 48/50\n",
            "475/475 [==============================] - 4s 7ms/step - loss: 0.0920 - accuracy: 0.9689 - val_loss: 0.0912 - val_accuracy: 0.9721\n",
            "Epoch 49/50\n",
            "475/475 [==============================] - 1s 3ms/step - loss: 0.0916 - accuracy: 0.9702 - val_loss: 0.0898 - val_accuracy: 0.9721\n",
            "Epoch 50/50\n",
            "475/475 [==============================] - 1s 3ms/step - loss: 0.0914 - accuracy: 0.9690 - val_loss: 0.0901 - val_accuracy: 0.9736\n"
          ]
        }
      ]
    },
    {
      "cell_type": "code",
      "source": [
        "plt.plot(history.history['accuracy'])\n",
        "plt.plot(history.history['val_accuracy'])\n",
        "plt.title('Model accuracy')\n",
        "plt.ylabel('Accuracy')\n",
        "plt.xlabel('Epoch')\n",
        "plt.legend(['Train', 'Validation'], loc='upper left')\n",
        "plt.show()\n",
        "\n",
        "# Plot training & validation loss values\n",
        "plt.plot(history.history['loss']\n",
        ")\n",
        "plt.plot(history.history['val_loss'])\n",
        "plt.title('Model loss')\n",
        "plt.ylabel('Loss')\n",
        "plt.xlabel('Epoch')\n",
        "plt.legend(['Train', 'Validation'], loc='upper left')\n",
        "plt.show()"
      ],
      "metadata": {
        "colab": {
          "base_uri": "https://localhost:8080/",
          "height": 573
        },
        "id": "lzWDRvmvyvQ7",
        "outputId": "b1e3ed15-06ac-417d-fc6f-4084d9e74cd4"
      },
      "execution_count": null,
      "outputs": [
        {
          "output_type": "display_data",
          "data": {
            "text/plain": [
              "<Figure size 432x288 with 1 Axes>"
            ],
            "image/png": "[encoded data removed]"
          },
          "metadata": {
            "needs_background": "light"
          }
        },
        {
          "output_type": "display_data",
          "data": {
            "text/plain": [
              "<Figure size 432x288 with 1 Axes>"
            ],
            "image/png": "[encoded data removed]"
          },
          "metadata": {
            "needs_background": "light"
          }
        }
      ]
    },
    {
      "cell_type": "code",
      "source": [
        "sample = {\n",
        "    \"percentageSoilSensor2\": 50,\n",
        "    \"roomTemperature\" : 29,\n",
        "    \"roomHumidity\" : 99\n",
        "\n",
        "}\n",
        "\n",
        "input_dict = {name: tf.convert_to_tensor([value]) for name, value in sample.items()}\n",
        "predictions = model.predict(input_dict)\n",
        "\n",
        "print(\n",
        "    \"This particular Percentage had a %.1f percent probability \"\n",
        "    \"of getting Stepper Motor online, as evaluated by our model.\" % (100 * predictions[0][0],)\n",
        ")"
      ],
      "metadata": {
        "colab": {
          "base_uri": "https://localhost:8080/"
        },
        "id": "mgMQ3xBBzDJ4",
        "outputId": "db38cd75-4bbc-4764-cce0-37b0d9af4f52"
      },
      "execution_count": null,
      "outputs": [
        {
          "output_type": "stream",
          "name": "stdout",
          "text": [
            "This particular Percentage had a 51.1 percent probability of getting Stepper Motor online, as evaluated by our model.\n"
          ]
        }
      ]
    },
    {
      "cell_type": "code",
      "source": [
        "model.save('/content/drive/MyDrive/Data Skripsi/data-firebase/saved_model/water_status_v4_Dense_DNN_worsethan v3.h5') "
      ],
      "metadata": {
        "id": "QoWLXlf6i3mS"
      },
      "execution_count": null,
      "outputs": []
    },
    {
      "cell_type": "code",
      "source": [
        ""
      ],
      "metadata": {
        "id": "Dv-oIsJjQ0b9"
      },
      "execution_count": null,
      "outputs": []
    }
  ]
}